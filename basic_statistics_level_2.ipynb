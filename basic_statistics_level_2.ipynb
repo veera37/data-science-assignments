{
  "nbformat": 4,
  "nbformat_minor": 0,
  "metadata": {
    "colab": {
      "provenance": [],
      "authorship_tag": "ABX9TyNUuez5StC5N9jZC8Weap7R",
      "include_colab_link": true
    },
    "kernelspec": {
      "name": "python3",
      "display_name": "Python 3"
    },
    "language_info": {
      "name": "python"
    }
  },
  "cells": [
    {
      "cell_type": "markdown",
      "metadata": {
        "id": "view-in-github",
        "colab_type": "text"
      },
      "source": [
        "<a href=\"https://colab.research.google.com/github/veera37/data-science-assignments/blob/main/basic_statistics_level_2.ipynb\" target=\"_parent\"><img src=\"https://colab.research.google.com/assets/colab-badge.svg\" alt=\"Open In Colab\"/></a>"
      ]
    },
    {
      "cell_type": "markdown",
      "source": [
        "**SET 1**  **Descriptive+statistics+Probability**\n",
        "\n",
        "Q2"
      ],
      "metadata": {
        "id": "oi-Vi_TE1qSk"
      }
    },
    {
      "cell_type": "code",
      "source": [
        "#problem on binomial distribution \n",
        "#here n = 5 , p = to one in 200 ie 0.005\n",
        "from scipy.stats import binom\n",
        "bi = binom(5,0.005)\n",
        "bi"
      ],
      "metadata": {
        "colab": {
          "base_uri": "https://localhost:8080/"
        },
        "id": "NjcuNVSAjGxk",
        "outputId": "150d45a4-d6f8-44f2-c727-fe3a4666665f"
      },
      "execution_count": 4,
      "outputs": [
        {
          "output_type": "execute_result",
          "data": {
            "text/plain": [
              "<scipy.stats._distn_infrastructure.rv_frozen at 0x7fb15be6c0a0>"
            ]
          },
          "metadata": {},
          "execution_count": 4
        }
      ]
    },
    {
      "cell_type": "code",
      "source": [
        "# asked atleast one out of 5 reaches wrong number\n",
        "bi.cdf(1)\n",
        "1-bi.cdf(1)"
      ],
      "metadata": {
        "colab": {
          "base_uri": "https://localhost:8080/"
        },
        "id": "IW2z3Mt-k8zB",
        "outputId": "89be83c8-3787-4e72-f428-c9c126a37ddb"
      },
      "execution_count": 5,
      "outputs": [
        {
          "output_type": "execute_result",
          "data": {
            "text/plain": [
              "0.0002475093624999536"
            ]
          },
          "metadata": {},
          "execution_count": 5
        }
      ]
    },
    {
      "cell_type": "code",
      "source": [
        "##so, there is 0.00024% of chance for one ot of 5 calls getting diverted. "
      ],
      "metadata": {
        "id": "7ZOW9CIdlRru"
      },
      "execution_count": null,
      "outputs": []
    },
    {
      "cell_type": "markdown",
      "source": [
        "\n",
        "\n",
        "--------------------------------------------------------------------------------\n",
        "\n"
      ],
      "metadata": {
        "id": "WWMb0fxgs6lu"
      }
    },
    {
      "cell_type": "markdown",
      "source": [
        "***Set2:***\n",
        " **Normal distribution, Functions of Random Variables**\n",
        "\n",
        "Q1\n",
        "\n",
        "-> starts work after 10 minutes\n",
        "\n",
        "-> coustmer returns after one hour. so the time left is 50 minutes\n",
        "\n",
        "->mean(mu) is 45\n",
        "\n",
        "->standrad deviation is (sigma) is 8 minutes\n"
      ],
      "metadata": {
        "id": "XzeET2_tUeOY"
      }
    },
    {
      "cell_type": "code",
      "source": [
        "from scipy.stats import norm\n",
        "nd = norm(45,8)\n",
        "nd.cdf(50)\n",
        "p = 1 - nd.cdf(50)\n",
        "p"
      ],
      "metadata": {
        "colab": {
          "base_uri": "https://localhost:8080/"
        },
        "id": "GGUJXEydUlch",
        "outputId": "2d9e9011-6d16-4384-af94-87ae9daa6bc0"
      },
      "execution_count": 6,
      "outputs": [
        {
          "output_type": "execute_result",
          "data": {
            "text/plain": [
              "0.26598552904870054"
            ]
          },
          "metadata": {},
          "execution_count": 6
        }
      ]
    },
    {
      "cell_type": "markdown",
      "source": [
        "Q2.a"
      ],
      "metadata": {
        "id": "zEctsAXKeV4W"
      }
    },
    {
      "cell_type": "code",
      "source": [
        "from scipy.stats import norm\n",
        "nd = norm(38,6)\n",
        "p1 = nd.cdf(44)\n",
        "p2 = nd.cdf(38)\n",
        "print(\"p(38>=44) is \",p1 - p2)#the number of employes between 38 and 44\n",
        "print('older than 44 are ',1 - p1)#the employes older than 44"
      ],
      "metadata": {
        "id": "CuWiZatFVgVk",
        "colab": {
          "base_uri": "https://localhost:8080/"
        },
        "outputId": "e2649007-7e1c-4edf-9a56-499db2955122"
      },
      "execution_count": null,
      "outputs": [
        {
          "output_type": "stream",
          "name": "stdout",
          "text": [
            "p(38>=44) is  0.3413447460685429\n",
            "older than 44 are  0.15865525393145707\n"
          ]
        }
      ]
    },
    {
      "cell_type": "markdown",
      "source": [
        "p(38>=44) is  0.3413447460685429\n",
        "older than 44 are  0.15865525393145707\n",
        "\n",
        "there are more employes between 38 and 44 age group.\n",
        "\n",
        "Q2.b"
      ],
      "metadata": {
        "id": "w8mTFxUpp7dC"
      }
    },
    {
      "cell_type": "code",
      "source": [
        "pp = nd.cdf(30)\n",
        "p3"
      ],
      "metadata": {
        "colab": {
          "base_uri": "https://localhost:8080/"
        },
        "id": "as5YD3rsrkE8",
        "outputId": "255a3d95-e4a8-4eaf-fd78-09a437d8dd13"
      },
      "execution_count": null,
      "outputs": [
        {
          "output_type": "execute_result",
          "data": {
            "text/plain": [
              "9.121121972586788"
            ]
          },
          "metadata": {},
          "execution_count": 16
        }
      ]
    },
    {
      "cell_type": "markdown",
      "source": [],
      "metadata": {
        "id": "VyY-jWGHqXB3"
      }
    },
    {
      "cell_type": "markdown",
      "source": [
        "there are 9% of employes under 30 age group.. whch is equal to 36 employes out of 400.\n",
        "\n",
        "\n",
        "Q4"
      ],
      "metadata": {
        "id": "pKVVxe6QP1d8"
      }
    },
    {
      "cell_type": "code",
      "source": [
        "from scipy import stats\n",
        "from scipy.stats import norm"
      ],
      "metadata": {
        "id": "lIftNUCAe6JG"
      },
      "execution_count": null,
      "outputs": []
    },
    {
      "cell_type": "code",
      "source": [
        "# p =99 mean = 100, sd=20\n",
        "stats.norm.interval(0.99,20,4.47)"
      ],
      "metadata": {
        "colab": {
          "base_uri": "https://localhost:8080/"
        },
        "id": "FNX7U117QUYu",
        "outputId": "4c93aeb3-60c9-4186-91a8-56d3c07e9dc7"
      },
      "execution_count": null,
      "outputs": [
        {
          "output_type": "execute_result",
          "data": {
            "text/plain": [
              "(88.48604301313641, 111.51395698686359)"
            ]
          },
          "metadata": {},
          "execution_count": 20
        }
      ]
    },
    {
      "cell_type": "markdown",
      "source": [
        "Q5.a\n"
      ],
      "metadata": {
        "id": "uZ5qejHWQlbV"
      }
    },
    {
      "cell_type": "code",
      "source": [
        "from scipy import stats\n",
        "from scipy.stats import norm\n",
        "stats.norm.interval(0.95,12,5)"
      ],
      "metadata": {
        "colab": {
          "base_uri": "https://localhost:8080/"
        },
        "id": "OYIowdUAQx2t",
        "outputId": "fe45db10-c40b-4bc6-ab74-1d67edb13895"
      },
      "execution_count": null,
      "outputs": [
        {
          "output_type": "execute_result",
          "data": {
            "text/plain": [
              "(2.2001800772997306, 21.79981992270027)"
            ]
          },
          "metadata": {},
          "execution_count": 21
        }
      ]
    },
    {
      "cell_type": "markdown",
      "source": [
        "z value for 5% percentail is  -1.645"
      ],
      "metadata": {
        "id": "dKkGOa-LRHlj"
      }
    },
    {
      "cell_type": "code",
      "source": [
        "# percentile \n",
        "12 + (-1.645*5) "
      ],
      "metadata": {
        "colab": {
          "base_uri": "https://localhost:8080/"
        },
        "id": "lAs6L0FDQ-7f",
        "outputId": "fb76889d-ec3a-4c01-bbb4-f678f5ad8446"
      },
      "execution_count": null,
      "outputs": [
        {
          "output_type": "execute_result",
          "data": {
            "text/plain": [
              "3.7750000000000004"
            ]
          },
          "metadata": {},
          "execution_count": 22
        }
      ]
    },
    {
      "cell_type": "markdown",
      "source": [
        "\n",
        "\n",
        "SET 3\n",
        "\n",
        "confidence interval\n",
        "\n",
        "Q 8"
      ],
      "metadata": {
        "id": "i_LGiJzoNaHb"
      }
    },
    {
      "cell_type": "code",
      "source": [
        "from scipy.stats import norm \n",
        "norm.ppf(0.95)"
      ],
      "metadata": {
        "colab": {
          "base_uri": "https://localhost:8080/"
        },
        "id": "bRTdzv0eNhfu",
        "outputId": "dc119469-09be-4060-8b94-7d0cf416678b"
      },
      "execution_count": 18,
      "outputs": [
        {
          "output_type": "execute_result",
          "data": {
            "text/plain": [
              "1.6448536269514722"
            ]
          },
          "metadata": {},
          "execution_count": 18
        }
      ]
    },
    {
      "cell_type": "markdown",
      "source": [
        "N= z^2 (p * 1-p ) / E^2\n",
        "\n",
        "Z – z score for 95 %\n",
        "\n",
        "P is not given , so default value is 0.5\n",
        "\n",
        "E is margin of error = 0.04"
      ],
      "metadata": {
        "id": "72x5mq45PC7a"
      }
    },
    {
      "cell_type": "code",
      "source": [
        "(1.959963984540054*1.959963984540054*0.5*0.5)/(0.04*0.04) "
      ],
      "metadata": {
        "colab": {
          "base_uri": "https://localhost:8080/"
        },
        "id": "UqnhH6a2PCdO",
        "outputId": "a410ae86-b95f-4ce7-96f3-6ad79ef95751"
      },
      "execution_count": null,
      "outputs": [
        {
          "output_type": "execute_result",
          "data": {
            "text/plain": [
              "600.2279407334571"
            ]
          },
          "metadata": {},
          "execution_count": 2
        }
      ]
    },
    {
      "cell_type": "markdown",
      "source": [
        "Q 9"
      ],
      "metadata": {
        "id": "kxiYNEz1PnjH"
      }
    },
    {
      "cell_type": "code",
      "source": [
        "norm.ppf(0.99)"
      ],
      "metadata": {
        "colab": {
          "base_uri": "https://localhost:8080/"
        },
        "id": "o_92hAXQOcFP",
        "outputId": "3f1153e6-b77f-4518-8c2c-9f796652fa69"
      },
      "execution_count": null,
      "outputs": [
        {
          "output_type": "execute_result",
          "data": {
            "text/plain": [
              "2.3263478740408408"
            ]
          },
          "metadata": {},
          "execution_count": 6
        }
      ]
    },
    {
      "cell_type": "code",
      "source": [
        "(2.3263478740408408*2.3263478740408408*0.5*0.5)/(0.04*0.04) "
      ],
      "metadata": {
        "colab": {
          "base_uri": "https://localhost:8080/"
        },
        "id": "0hqncsZRP1Sb",
        "outputId": "adb1d1d2-7437-4242-cd54-ddda29ab99ad"
      },
      "execution_count": null,
      "outputs": [
        {
          "output_type": "execute_result",
          "data": {
            "text/plain": [
              "845.6085048522405"
            ]
          },
          "metadata": {},
          "execution_count": 7
        }
      ]
    },
    {
      "cell_type": "markdown",
      "source": [
        "**set 4**\n",
        "\n",
        "**Q 3** \n",
        "\n",
        "\n",
        "given that:\n",
        "-> no of samples are 100 \n",
        "\n",
        "-> population mean is 50 \n",
        "\n",
        "-> sd of population is 40\n",
        "\n",
        "here we need find the probality of no investigation ie 1 - p(45>=55)\n",
        "\n",
        "to find that we need sd of sample . for that           "
      ],
      "metadata": {
        "id": "8kG12QpaYq9I"
      }
    },
    {
      "cell_type": "code",
      "source": [
        "#sd of sample = sd of pop/ sq(no of samples)\n",
        "import math\n",
        "from scipy import stats\n",
        "from scipy.stats import norm\n",
        "sd_sam =40/(math.sqrt(100))\n",
        "p4 = stats.norm.cdf(55,50,sd_sam) - stats.norm.cdf(45,50,sd_sam)\n",
        "print(\"probability of no investigation is \",1 - p4)\n",
        "\n"
      ],
      "metadata": {
        "colab": {
          "base_uri": "https://localhost:8080/"
        },
        "id": "GL_j8Jd5TMf1",
        "outputId": "3e8fee40-c30e-4225-8e3b-aa2249a96f3f"
      },
      "execution_count": 36,
      "outputs": [
        {
          "output_type": "stream",
          "name": "stdout",
          "text": [
            "probability of no investigation is  0.2112995473337107\n"
          ]
        }
      ]
    }
  ]
}